{
  "cells": [
    {
      "cell_type": "markdown",
      "metadata": {},
      "source": [
        "# MM20B007 - Assignment 3"
      ]
    },
    {
      "cell_type": "code",
      "execution_count": 1,
      "metadata": {
        "id": "22FpZUALnw30"
      },
      "outputs": [],
      "source": [
        "import pandas as pd\n",
        "import numpy\n",
        "import matplotlib.pyplot as plt\n",
        "import requests\n",
        "import os\n",
        "import shutil\n",
        "from bs4 import BeautifulSoup\n",
        "import mlflow"
      ]
    },
    {
      "cell_type": "markdown",
      "metadata": {
        "id": "L5q6uKI3np-7"
      },
      "source": [
        "## Download Function"
      ]
    },
    {
      "cell_type": "code",
      "execution_count": null,
      "metadata": {
        "colab": {
          "base_uri": "https://localhost:8080/"
        },
        "id": "Hnd1469rzjL6",
        "outputId": "2c36bb4e-8ee2-47f2-ba5e-77f39d57abf6"
      },
      "outputs": [],
      "source": [
        "for i in range(2023, 2024):\n",
        "\n",
        "  print(f'The year is {i}')\n",
        "  url = f'https://www.ncei.noaa.gov/data/local-climatological-data/access/{i}/'\n",
        "\n",
        "  response = requests.get(url)\n",
        "\n",
        "  if response.status_code == 200:\n",
        "      \n",
        "      soup = BeautifulSoup(response.content, 'html.parser')\n",
        "\n",
        "      \n",
        "      links = soup.find_all('a')\n",
        "      links.reverse()\n",
        "      print(f'THe number of csv files are - {len(links)}')\n",
        "\n",
        "      # Directory to save the CSV files\n",
        "      save_dir = r\"D:\\sem 8\\CS5830\\Assignment 4\\downloaded_csvs\"\n",
        "      temp_dir = r\"D:\\sem 8\\CS5830\\Assignment 4\\temp_csvs\"\n",
        "      os.makedirs(save_dir, exist_ok=True)\n",
        "      os.makedirs(temp_dir, exist_ok=True)\n",
        "\n",
        "      i = 1\n",
        "\n",
        "      for link in links:\n",
        "        print(f'The csv file number is {i}')\n",
        "\n",
        "        href = link.get('href')\n",
        "\n",
        "        if href and href.endswith('.csv'):\n",
        "            # Build the full URL to the CSV file\n",
        "            csv_url = url + href\n",
        "\n",
        "            # Send a GET request to download the CSV file\n",
        "            csv_response = requests.get(csv_url)\n",
        "\n",
        "            # Temporarily save the CSV file if the request was successful\n",
        "            if csv_response.status_code == 200:\n",
        "                temp_csv_path = os.path.join(temp_dir, href)\n",
        "                with open(temp_csv_path, 'wb') as f:\n",
        "                    f.write(csv_response.content)\n",
        "\n",
        "                df = pd.read_csv(temp_csv_path, low_memory = False)\n",
        "\n",
        "                if df['DailyDepartureFromNormalAverageTemperature'].notna().any() and df['MonthlyDepartureFromNormalAverageTemperature'].notna().any():\n",
        "                    # Move the file to the permanent directory\n",
        "                    final_csv_path = os.path.join(save_dir, href)\n",
        "                    shutil.move(temp_csv_path, final_csv_path)\n",
        "                    print(f'Downloaded and verified {href}')\n",
        "                    print('\\n')\n",
        "                else:\n",
        "                    # Delete the file if it doesn't meet the criteria\n",
        "                    os.remove(temp_csv_path)\n",
        "                    print(f'Does not satisfy the requirements')\n",
        "                    print('\\n')\n",
        "            else:\n",
        "                print(f'Failed to download {href}')\n",
        "                print('\\n')\n",
        "\n",
        "        if i >= 50:\n",
        "          break\n",
        "        else:\n",
        "          i += 1\n",
        "  else:\n",
        "      print('Failed to access the website')\n",
        "      print('\\n')"
      ]
    },
    {
      "cell_type": "code",
      "execution_count": 14,
      "metadata": {},
      "outputs": [],
      "source": [
        "files = []\n",
        "for dirname, _, filenames in os.walk(save_dir):\n",
        "    for filename in filenames:\n",
        "        path = str(os.path.join(dirname, filename))\n",
        "        files.append(path)"
      ]
    },
    {
      "cell_type": "markdown",
      "metadata": {
        "id": "gwuzd3JanlQj"
      },
      "source": [
        "## Prepare Function"
      ]
    },
    {
      "cell_type": "code",
      "execution_count": 5,
      "metadata": {
        "id": "0CyKFYyyk-Bn"
      },
      "outputs": [],
      "source": [
        "def prepare_data(file_path):\n",
        "\n",
        "  # Read the file\n",
        "  data = pd.read_csv(file_path, low_memory=False)\n",
        "\n",
        "  # Converting the values to numeric to ensure smooth calculation\n",
        "  data['DailyDepartureFromNormalAverageTemperature'] = pd.to_numeric(data['DailyDepartureFromNormalAverageTemperature'], errors='coerce')\n",
        "\n",
        "  filtered_data = data[['DATE', 'DailyDepartureFromNormalAverageTemperature']].copy()\n",
        "  filtered_data['DATE'] = pd.to_datetime(filtered_data['DATE'])\n",
        "\n",
        "  # Caculating the monthly aggregate for the feature\n",
        "  monthly_aggregates = filtered_data.groupby(filtered_data['DATE'].dt.to_period('M'))['DailyDepartureFromNormalAverageTemperature'].mean().reset_index()\n",
        "  monthly_aggregates['DATE'] = monthly_aggregates['DATE'].dt.to_timestamp()\n",
        "  monthly_aggregates.columns = ['Month', 'MonthlyAvgDeparture']\n",
        "\n",
        "  return monthly_aggregates"
      ]
    },
    {
      "cell_type": "markdown",
      "metadata": {
        "id": "vyK_1OPDnZ1S"
      },
      "source": [
        "## Process Function"
      ]
    },
    {
      "cell_type": "code",
      "execution_count": 6,
      "metadata": {
        "id": "Q4T5FKwjhaE1"
      },
      "outputs": [],
      "source": [
        "def process_data(file_path):\n",
        "\n",
        "  # Read the file\n",
        "  data = pd.read_csv(file_path, low_memory=False)\n",
        "\n",
        "  # calcualting the monthly data for the feature\n",
        "  monthly_data = data[['DATE', 'MonthlyDepartureFromNormalAverageTemperature']].copy()\n",
        "  monthly_data['DATE'] = pd.to_datetime(monthly_data['DATE'])\n",
        "\n",
        "  # The monthly data should be processed throughly for the further calculation. The information is being grouped as per months\n",
        "  processed_monthly_aggregates = monthly_data.groupby(monthly_data['DATE'].dt.to_period('M'))['MonthlyDepartureFromNormalAverageTemperature'].mean().reset_index()\n",
        "  processed_monthly_aggregates['DATE'] = processed_monthly_aggregates['DATE'].dt.to_timestamp()\n",
        "  processed_monthly_aggregates.columns = ['Month', 'GivenMonthlyAvgDeparture']\n",
        "\n",
        "  return processed_monthly_aggregates"
      ]
    },
    {
      "cell_type": "markdown",
      "metadata": {
        "id": "udItQlv5nc1Y"
      },
      "source": [
        "## Evaluate Function"
      ]
    },
    {
      "cell_type": "code",
      "execution_count": 7,
      "metadata": {
        "id": "489ckfLKiu6E"
      },
      "outputs": [],
      "source": [
        "def r2(prepared_data, processed_data):\n",
        "\n",
        "  # R2 score is caluclated with the help of this function without relying on the sklearn library\n",
        "  comparison_df = pd.merge(prepared_data, processed_data, on='Month', how='inner')\n",
        "\n",
        "  comparison_df_clean = comparison_df.dropna(subset=['MonthlyAvgDeparture', 'GivenMonthlyAvgDeparture']).copy()\n",
        "\n",
        "  ss_res = ((comparison_df_clean['MonthlyAvgDeparture'] - comparison_df_clean['GivenMonthlyAvgDeparture']) ** 2).sum()\n",
        "\n",
        "  mean_of_actuals = comparison_df_clean['MonthlyAvgDeparture'].mean()\n",
        "  ss_tot = ((comparison_df_clean['MonthlyAvgDeparture'] - mean_of_actuals) ** 2).sum()\n",
        "\n",
        "  r2 = 1 - (ss_res / ss_tot)\n",
        "\n",
        "  comparison_df_clean['R2_Score'] = r2\n",
        "\n",
        "  return comparison_df_clean, r2"
      ]
    },
    {
      "cell_type": "code",
      "execution_count": 12,
      "metadata": {
        "id": "zH3_oQnTvFEa"
      },
      "outputs": [],
      "source": [
        "def evaluate_data(files, PLOT = True):\n",
        "\n",
        "  r2_scores = {}\n",
        "  common_path = 'D:\\\\sem 8\\\\CS5830\\\\Assignment 4\\\\downloaded_csvs\\\\'\n",
        "\n",
        "  # The r2 score is calculated for each file that contain data is calculated here\n",
        "  for file_path in files:\n",
        "\n",
        "    file_name = file_path.replace(common_path, '')\n",
        "\n",
        "    prepared_data = prepare_data(file_path)\n",
        "    processed_data = process_data(file_path)\n",
        "\n",
        "    prepared_data = pd.DataFrame(data = prepared_data)\n",
        "    processed_data = pd.DataFrame(data = processed_data)\n",
        "\n",
        "    evaluation_result, r2_score = r2(prepared_data, processed_data)\n",
        "    r2_scores[file_name] = r2_score\n",
        "\n",
        "    mlflow.log_metric(\"r2_score\", r2_score)\n",
        "\n",
        "  if PLOT == True:\n",
        "    plt.plot(r2_scores.keys(), r2_scores.values())\n",
        "    plt.xlabel('CSV files')\n",
        "    plt.ylabel('R2 score')\n",
        "    plt.xticks(rotation = 45)\n",
        "    plt.title('R2 score for each file')\n",
        "    plt.savefig(\"R2_score.png\")\n",
        "    mlflow.log_artifact(\"R2_score.png\")\n",
        "    plt.show()\n",
        "\n",
        "  return r2_scores"
      ]
    },
    {
      "cell_type": "code",
      "execution_count": 15,
      "metadata": {
        "colab": {
          "base_uri": "https://localhost:8080/",
          "height": 593
        },
        "id": "Cv_WgCEYvfsm",
        "outputId": "753ba336-ebd5-497b-e810-e86cf791eac0"
      },
      "outputs": [
        {
          "data": {
            "image/png": "[encoded data removed]",
            "text/plain": [
              "<Figure size 640x480 with 1 Axes>"
            ]
          },
          "metadata": {},
          "output_type": "display_data"
        },
        {
          "name": "stdout",
          "output_type": "stream",
          "text": [
            "R^2 Score: {'99999994085.csv': 0.9900001013724198, '99999994088.csv': 0.9908640198588946, '99999994290.csv': 0.21580359236503766, '99999994644.csv': 0.9525832900449271, '99999994645.csv': 0.986517720091041, '99999994995.csv': 0.9746794156032483, '99999994996.csv': 0.9815185080289853, 'A0002363890.csv': 0.6223639693548368, 'A0002453848.csv': 0.7207068469350111}\n",
            "Model run:  2ad10c29db4e4401b1687e796077ad85\n"
          ]
        }
      ],
      "source": [
        "# The mlflow setup\n",
        "mlflow.set_experiment(\"Dataset Consistency Verification Experiment\")\n",
        "\n",
        "with mlflow.start_run():\n",
        "    r2_score = evaluate_data(files)\n",
        "    print(\"R^2 Score:\", r2_score)\n",
        "    print(\"Model run: \", mlflow.active_run().info.run_uuid)\n",
        "mlflow.end_run()"
      ]
    }
  ],
  "metadata": {
    "colab": {
      "provenance": []
    },
    "kernelspec": {
      "display_name": "Python 3",
      "name": "python3"
    },
    "language_info": {
      "codemirror_mode": {
        "name": "ipython",
        "version": 3
      },
      "file_extension": ".py",
      "mimetype": "text/x-python",
      "name": "python",
      "nbconvert_exporter": "python",
      "pygments_lexer": "ipython3",
      "version": "3.12.2"
    }
  },
  "nbformat": 4,
  "nbformat_minor": 0
}
